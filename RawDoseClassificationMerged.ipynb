{
 "cells": [
  {
   "cell_type": "code",
   "execution_count": 2,
   "id": "4c06199a-e465-4bb7-b5bc-1e3cbed1436d",
   "metadata": {},
   "outputs": [],
   "source": [
    "import numpy as np\n",
    "import matplotlib.pyplot as plt\n",
    "import pandas as pd\n",
    "\n",
    "import keras\n",
    "import tensorflow as tf\n",
    "from keras.models import Model\n",
    "from keras.layers import Input, Dense, Conv1D, Flatten, MaxPooling1D, Dropout, concatenate\n",
    "from sklearn.model_selection import train_test_split\n",
    "from keras.utils.vis_utils import plot_model"
   ]
  },
  {
   "cell_type": "code",
   "execution_count": 3,
   "id": "476f29a4-92ab-4212-b090-d57753baff0a",
   "metadata": {},
   "outputs": [],
   "source": [
    "#doses pulled from Data Analysis/CLOCK_DATA/ACLK Graph to match LPM0,2,4 on first 11 trials - maybe automate this later\n",
    "doses = np.array([ 0.  ,  5.44, 10.88, 16.32, 21.76, 27.2 , 32.64, 38.08, 43.52,\n",
    "       48.96, 54.4 , 59.84,  0.  ,  5.44, 10.88, 16.32, 21.76, 27.2 ,\n",
    "       32.64, 38.08, 43.52, 48.96, 54.4 , 59.84,  0.  ,  5.44, 10.88,\n",
    "       16.32, 21.76, 27.2 , 32.64, 38.08, 43.52, 48.96, 54.4 , 59.84])\n",
    "classes = [\"0-16.32\", \"16.32-43.52\", \"43.52+\"]"
   ]
  },
  {
   "cell_type": "code",
   "execution_count": 4,
   "id": "3b06bc49-7fb1-4c0e-8fad-e37880d13135",
   "metadata": {},
   "outputs": [],
   "source": [
    "def rolling_window(a, window):\n",
    "    pad = np.ones(len(a.shape), dtype=np.int32)\n",
    "    pad[-1] = window-1\n",
    "    pad = list(zip(pad, np.zeros(len(a.shape), dtype=np.int32)))\n",
    "    a = np.pad(a, pad,mode='reflect')\n",
    "    shape = a.shape[:-1] + (a.shape[-1] - window + 1, window)\n",
    "    strides = a.strides + (a.strides[-1],)\n",
    "    return np.lib.stride_tricks.as_strided(a, shape=shape, strides=strides)"
   ]
  },
  {
   "cell_type": "code",
   "execution_count": 5,
   "id": "cf6d5377-9236-4f7c-b8e3-2568ae94010d",
   "metadata": {},
   "outputs": [],
   "source": [
    "#load data\n",
    "trial_path = \"/Users/trevorpeyton/Downloads/\"\n",
    "trial_numbers = np.arange(12)\n",
    "channels = [\"Channel1\"]\n",
    "modes = [\"LPM0\", \"LPM2\", \"LPM4\"]\n",
    "trial_labels = [(f\"{channel}/{mode}_Trial{number}\", mode) for mode in modes for number in trial_numbers for channel in channels] #modified to pass along mode\n",
    "trials = [(pd.read_csv(trial_path + label + \".csv\", usecols=[3, 4], names=[\"time\", \"v\"]).v.to_numpy()[::], mode) for label, mode in trial_labels] #(data, mode)\n",
    "\n",
    "trial_slde_width = 2000\n",
    "test_percent = .2\n",
    "val_percent = .2 #percent of test set to be reserved for validation\n",
    "\n",
    "\n",
    "temp_df = {\"data\": [], \"class\": [], \"mode\": []}\n",
    "\n",
    "for i, (trial, mode) in enumerate(trials):\n",
    "    #normalize all values using z-score\n",
    "    trial_copy = np.zeros(trial.shape)\n",
    "    trial_copy[trial > 2] = (trial[trial > 2] - trial[trial > 2].mean()) / trial[trial > 2].std()\n",
    "    trial_copy[trial < 2] = (trial[trial < 2] - trial[trial < 2].mean()) / trial[trial < 2].std()\n",
    "    for win in np.lib.stride_tricks.sliding_window_view(trial_copy, trial_slde_width)[::int(trial_slde_width / 2)]:\n",
    "        temp_df[\"data\"].append(win)\n",
    "        temp_df[\"mode\"].append(mode)\n",
    "        if doses[i] >= 43:\n",
    "            temp_df[\"class\"].append(classes[2])\n",
    "        elif doses[i] > 17:\n",
    "            temp_df[\"class\"].append(classes[1])\n",
    "        else:\n",
    "            temp_df[\"class\"].append(classes[0])\n",
    "\n",
    "df = pd.DataFrame(temp_df)\n",
    "df[\"merged_strat\"] = df[\"mode\"] + df[\"class\"]\n",
    "\n",
    "#split train/test/val\n",
    "temp_train, temp_test = train_test_split(df, test_size = test_percent, random_state=2, stratify=df[\"merged_strat\"])\n",
    "temp_test, temp_val = train_test_split(temp_test, test_size = val_percent, random_state=2, stratify=temp_test[\"merged_strat\"])\n",
    "\n",
    "train = np.concatenate((pd.get_dummies(temp_train[\"mode\"], columns=modes).values, np.stack(temp_train[\"data\"])), axis=1)\n",
    "train_y = pd.get_dummies(temp_train[\"class\"], columns=classes).values\n",
    "test = np.concatenate((pd.get_dummies(temp_test[\"mode\"], columns=modes).values, np.stack(temp_test[\"data\"])), axis=1)\n",
    "test_y = pd.get_dummies(temp_test[\"class\"], columns=classes).values\n",
    "val = np.concatenate((pd.get_dummies(temp_val[\"mode\"], columns=modes).values, np.stack(temp_val[\"data\"])), axis=1)\n",
    "val_y = pd.get_dummies(temp_val[\"class\"], columns=classes).values\n",
    "\n",
    "df = trials = temp_df = temp_train = temp_test = temp_val = None #clear up some memory"
   ]
  },
  {
   "cell_type": "code",
   "execution_count": 6,
   "id": "06021e99-d90c-4f81-9ada-b5a7143350b6",
   "metadata": {},
   "outputs": [
    {
     "name": "stdout",
     "output_type": "stream",
     "text": [
      "Metal device set to: Apple M1\n",
      "\n",
      "systemMemory: 16.00 GB\n",
      "maxCacheSize: 5.33 GB\n",
      "\n"
     ]
    },
    {
     "name": "stderr",
     "output_type": "stream",
     "text": [
      "2022-03-22 23:15:30.980622: I tensorflow/core/common_runtime/pluggable_device/pluggable_device_factory.cc:305] Could not identify NUMA node of platform GPU ID 0, defaulting to 0. Your kernel may not have been built with NUMA support.\n",
      "2022-03-22 23:15:30.980710: I tensorflow/core/common_runtime/pluggable_device/pluggable_device_factory.cc:271] Created TensorFlow device (/job:localhost/replica:0/task:0/device:GPU:0 with 0 MB memory) -> physical PluggableDevice (device: 0, name: METAL, pci bus id: <undefined>)\n"
     ]
    }
   ],
   "source": [
    "mode_input = Input(shape=(len(modes), ))\n",
    "data_input = Input(shape=(train.shape[1] - len(modes), 1))\n",
    "\n",
    "conv_1 = Conv1D(16, train.shape[1], activation=\"relu\", padding='same',\n",
    "                 kernel_regularizer=keras.regularizers.l2(l=0.1),\n",
    "                 bias_regularizer=keras.regularizers.l2(0.01)\n",
    "                )(data_input)\n",
    "max_1 = MaxPooling1D(8)(conv_1)\n",
    "\n",
    "conv_2 = Conv1D(8, train.shape[1], activation=\"relu\", padding='same',\n",
    "                 kernel_regularizer=keras.regularizers.l2(l=0.1),\n",
    "                 bias_regularizer=keras.regularizers.l2(0.01)\n",
    "                )(max_1)\n",
    "max_2 = MaxPooling1D(8)(conv_2)\n",
    "\n",
    "flatten = Flatten()(max_2)\n",
    "dropout = Dropout(0.5)(flatten)\n",
    "\n",
    "combined = keras.layers.Concatenate()([mode_input, dropout])\n",
    "final = Dense(3)(combined)\n",
    "\n",
    "model = Model(inputs=[mode_input, data_input], outputs=final)\n",
    "\n",
    "model.compile(\n",
    "    loss = tf.keras.losses.CategoricalCrossentropy(from_logits=True),\n",
    "    optimizer = tf.keras.optimizers.Adam(learning_rate=3e-4),\n",
    "    metrics = [\"accuracy\"]\n",
    "    )"
   ]
  },
  {
   "cell_type": "code",
   "execution_count": 7,
   "id": "f76408bb",
   "metadata": {},
   "outputs": [
    {
     "name": "stdout",
     "output_type": "stream",
     "text": [
      "Epoch 1/25\n"
     ]
    },
    {
     "name": "stderr",
     "output_type": "stream",
     "text": [
      "2022-03-22 23:15:34.557223: W tensorflow/core/platform/profile_utils/cpu_utils.cc:128] Failed to get CPU frequency: 0 Hz\n",
      "2022-03-22 23:15:34.806096: I tensorflow/core/grappler/optimizers/custom_graph_optimizer_registry.cc:113] Plugin optimizer for device_type GPU is enabled.\n"
     ]
    },
    {
     "name": "stdout",
     "output_type": "stream",
     "text": [
      "2/2 [==============================] - 4s 1s/step - loss: 2.3541 - accuracy: 0.3324 - val_loss: 2.1641 - val_accuracy: 0.4648\n",
      "Epoch 2/25\n"
     ]
    },
    {
     "name": "stderr",
     "output_type": "stream",
     "text": [
      "2022-03-22 23:15:38.353331: I tensorflow/core/grappler/optimizers/custom_graph_optimizer_registry.cc:113] Plugin optimizer for device_type GPU is enabled.\n"
     ]
    },
    {
     "name": "stdout",
     "output_type": "stream",
     "text": [
      "2/2 [==============================] - 3s 953ms/step - loss: 2.1322 - accuracy: 0.4805 - val_loss: 1.9208 - val_accuracy: 0.6056\n",
      "Epoch 3/25\n",
      "2/2 [==============================] - 3s 944ms/step - loss: 1.8990 - accuracy: 0.5372 - val_loss: 1.6435 - val_accuracy: 0.7746\n",
      "Epoch 4/25\n",
      "2/2 [==============================] - 3s 952ms/step - loss: 1.6187 - accuracy: 0.6754 - val_loss: 1.4440 - val_accuracy: 0.7606\n",
      "Epoch 5/25\n",
      "2/2 [==============================] - 3s 944ms/step - loss: 1.4324 - accuracy: 0.7094 - val_loss: 1.2777 - val_accuracy: 0.7887\n",
      "Epoch 6/25\n",
      "2/2 [==============================] - 3s 953ms/step - loss: 1.2703 - accuracy: 0.7597 - val_loss: 1.1376 - val_accuracy: 0.8310\n",
      "Epoch 7/25\n",
      "2/2 [==============================] - 3s 942ms/step - loss: 1.1374 - accuracy: 0.7980 - val_loss: 1.0441 - val_accuracy: 0.8169\n",
      "Epoch 8/25\n",
      "2/2 [==============================] - 3s 988ms/step - loss: 1.0396 - accuracy: 0.8086 - val_loss: 0.9588 - val_accuracy: 0.8169\n",
      "Epoch 9/25\n",
      "2/2 [==============================] - 3s 948ms/step - loss: 0.9556 - accuracy: 0.8249 - val_loss: 0.8862 - val_accuracy: 0.8028\n",
      "Epoch 10/25\n",
      "2/2 [==============================] - 3s 945ms/step - loss: 0.8715 - accuracy: 0.8391 - val_loss: 0.8091 - val_accuracy: 0.8732\n",
      "Epoch 11/25\n",
      "2/2 [==============================] - 3s 951ms/step - loss: 0.8241 - accuracy: 0.8420 - val_loss: 0.7574 - val_accuracy: 0.8732\n",
      "Epoch 12/25\n",
      "2/2 [==============================] - 3s 949ms/step - loss: 0.7499 - accuracy: 0.8675 - val_loss: 0.7373 - val_accuracy: 0.8028\n",
      "Epoch 13/25\n",
      "2/2 [==============================] - 3s 953ms/step - loss: 0.7353 - accuracy: 0.8583 - val_loss: 0.7127 - val_accuracy: 0.8028\n",
      "Epoch 14/25\n",
      "2/2 [==============================] - 3s 947ms/step - loss: 0.6971 - accuracy: 0.8632 - val_loss: 0.6901 - val_accuracy: 0.8732\n",
      "Epoch 15/25\n",
      "2/2 [==============================] - 3s 945ms/step - loss: 0.6681 - accuracy: 0.8653 - val_loss: 0.6536 - val_accuracy: 0.8451\n",
      "Epoch 16/25\n",
      "2/2 [==============================] - 3s 949ms/step - loss: 0.6344 - accuracy: 0.8746 - val_loss: 0.6507 - val_accuracy: 0.8028\n",
      "Epoch 17/25\n",
      "2/2 [==============================] - 3s 943ms/step - loss: 0.6433 - accuracy: 0.8767 - val_loss: 0.6696 - val_accuracy: 0.8310\n",
      "Epoch 18/25\n",
      "2/2 [==============================] - 3s 953ms/step - loss: 0.6265 - accuracy: 0.8724 - val_loss: 0.6517 - val_accuracy: 0.8169\n",
      "Epoch 19/25\n",
      "2/2 [==============================] - 3s 946ms/step - loss: 0.6022 - accuracy: 0.8731 - val_loss: 0.6389 - val_accuracy: 0.8169\n",
      "Epoch 20/25\n",
      "2/2 [==============================] - 3s 951ms/step - loss: 0.5818 - accuracy: 0.8788 - val_loss: 0.6049 - val_accuracy: 0.8169\n",
      "Epoch 21/25\n",
      "2/2 [==============================] - 3s 943ms/step - loss: 0.5726 - accuracy: 0.8753 - val_loss: 0.5816 - val_accuracy: 0.8592\n",
      "Epoch 22/25\n",
      "2/2 [==============================] - 3s 949ms/step - loss: 0.5605 - accuracy: 0.8774 - val_loss: 0.5739 - val_accuracy: 0.8592\n",
      "Epoch 23/25\n",
      "2/2 [==============================] - 3s 951ms/step - loss: 0.5403 - accuracy: 0.8901 - val_loss: 0.5977 - val_accuracy: 0.8310\n",
      "Epoch 24/25\n",
      "2/2 [==============================] - 3s 960ms/step - loss: 0.5486 - accuracy: 0.8753 - val_loss: 0.5888 - val_accuracy: 0.8451\n",
      "Epoch 25/25\n",
      "2/2 [==============================] - 3s 951ms/step - loss: 0.5297 - accuracy: 0.8774 - val_loss: 0.5770 - val_accuracy: 0.8592\n"
     ]
    }
   ],
   "source": [
    "\n",
    "#plot_model(model, show_shapes=True, show_layer_names=True)\n",
    "history = model.fit([train[:, 0:3, None], train[:, 3:, None]], train_y, batch_size=1024, epochs=25, verbose=1, validation_data=([val[:, 0:3, None], val[:, 3:, None]], val_y))"
   ]
  },
  {
   "cell_type": "code",
   "execution_count": 8,
   "id": "17652ed7-26b1-410d-8ca7-c6391b5f5888",
   "metadata": {},
   "outputs": [
    {
     "data": {
      "image/png": "[encoded data removed]",
      "text/plain": [
       "<Figure size 432x288 with 1 Axes>"
      ]
     },
     "metadata": {},
     "output_type": "display_data"
    },
    {
     "data": {
      "image/png": "[encoded data removed]",
      "text/plain": [
       "<Figure size 432x288 with 1 Axes>"
      ]
     },
     "metadata": {},
     "output_type": "display_data"
    }
   ],
   "source": [
    "_=plt.figure(facecolor='white')\n",
    "plt.plot(history.history['accuracy'])\n",
    "plt.plot(history.history['val_accuracy'])\n",
    "\n",
    "plt.title('model accuracy')\n",
    "plt.ylabel('accuracy')\n",
    "plt.xlabel('epoch')\n",
    "plt.legend(['train', 'val'], loc='upper left')\n",
    "plt.show()\n",
    "\n",
    "_=plt.figure(facecolor='white')\n",
    "plt.plot(history.history['loss'])\n",
    "plt.plot(history.history['val_loss'])\n",
    "plt.title('model loss')\n",
    "plt.ylabel('loss')\n",
    "plt.xlabel('epoch')\n",
    "plt.legend(['train', 'val'], loc='upper left')\n",
    "plt.show()"
   ]
  },
  {
   "cell_type": "code",
   "execution_count": 9,
   "id": "8527f79d-423e-493d-b29b-5b13f14958fe",
   "metadata": {},
   "outputs": [
    {
     "name": "stdout",
     "output_type": "stream",
     "text": [
      "9/9 [==============================] - 0s 28ms/step - loss: 0.5483 - accuracy: 0.8546\n",
      "[0.5482701063156128, 0.8546099662780762]\n"
     ]
    }
   ],
   "source": [
    "print(f\"{model.evaluate([test[:, 0:3, None], test[:, 3:, None]], test_y)}\")"
   ]
  },
  {
   "cell_type": "code",
   "execution_count": 12,
   "id": "2816d9ac-b887-45af-81ae-babc69acc5ed",
   "metadata": {},
   "outputs": [
    {
     "name": "stdout",
     "output_type": "stream",
     "text": [
      "\tPredicted: [1], expected: 1\n",
      "\tPredicted: [0], expected: 1\n",
      "\tPredicted: [2], expected: 2\n",
      "\tPredicted: [1], expected: 1\n",
      "\tPredicted: [1], expected: 1\n",
      "\tPredicted: [0], expected: 0\n",
      "\tPredicted: [1], expected: 1\n",
      "\tPredicted: [2], expected: 2\n",
      "\tPredicted: [0], expected: 0\n",
      "\tPredicted: [2], expected: 2\n",
      "\tPredicted: [1], expected: 1\n",
      "\tPredicted: [1], expected: 1\n",
      "\tPredicted: [2], expected: 1\n",
      "\tPredicted: [0], expected: 0\n",
      "\tPredicted: [0], expected: 0\n",
      "\tPredicted: [0], expected: 0\n",
      "\tPredicted: [2], expected: 2\n",
      "\tPredicted: [1], expected: 1\n",
      "\tPredicted: [1], expected: 1\n",
      "\tPredicted: [0], expected: 0\n"
     ]
    }
   ],
   "source": [
    "#show some predictions from test dataset\n",
    "start = 40\n",
    "predictions = 20\n",
    "for n in range(start, start+predictions):\n",
    "    print(f\"\\tPredicted: {np.argmax(model([test[None, n, 0:3, None], test[None, n, 3:, None]]), axis=1)}, expected: {np.argmax(test_y[n])}\")"
   ]
  },
  {
   "cell_type": "code",
   "execution_count": null,
   "id": "f0da37c0-97f6-4f4f-9897-6bfccf139865",
   "metadata": {},
   "outputs": [],
   "source": [
    "for n, model in enumerate(models):\n",
    "    model.save(f\"models/classification_{modes[n]}.h5\")"
   ]
  },
  {
   "cell_type": "code",
   "execution_count": null,
   "id": "a1621e51-0b4c-427c-80fa-bcac81362836",
   "metadata": {},
   "outputs": [],
   "source": []
  }
 ],
 "metadata": {
  "interpreter": {
   "hash": "ed203ced7a6e988ced454190fdf4c68ec1868b9a7835f1f630a808216dec74b4"
  },
  "kernelspec": {
   "display_name": "ml",
   "language": "python",
   "name": "python3"
  },
  "language_info": {
   "codemirror_mode": {
    "name": "ipython",
    "version": 3
   },
   "file_extension": ".py",
   "mimetype": "text/x-python",
   "name": "python",
   "nbconvert_exporter": "python",
   "pygments_lexer": "ipython3",
   "version": "3.9.10"
  }
 },
 "nbformat": 4,
 "nbformat_minor": 5
}
