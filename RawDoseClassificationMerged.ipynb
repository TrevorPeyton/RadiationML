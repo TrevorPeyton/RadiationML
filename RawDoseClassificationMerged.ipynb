{
 "cells": [
  {
   "cell_type": "code",
   "execution_count": 1,
   "id": "4c06199a-e465-4bb7-b5bc-1e3cbed1436d",
   "metadata": {},
   "outputs": [],
   "source": [
    "import numpy as np\n",
    "import matplotlib.pyplot as plt\n",
    "import pandas as pd\n",
    "\n",
    "import keras\n",
    "import tensorflow as tf\n",
    "from keras.models import Model\n",
    "from keras.layers import Input, Dense, Conv1D, Flatten, MaxPooling1D, Dropout, concatenate\n",
    "from sklearn.model_selection import train_test_split\n",
    "from keras.utils.vis_utils import plot_model"
   ]
  },
  {
   "cell_type": "code",
   "execution_count": 2,
   "id": "476f29a4-92ab-4212-b090-d57753baff0a",
   "metadata": {},
   "outputs": [],
   "source": [
    "#doses pulled from Data Analysis/CLOCK_DATA/ACLK Graph to match LPM0,2,4 on first 11 trials - maybe automate this later\n",
    "doses = np.array([ 0.  ,  5.44, 10.88, 16.32, 21.76, 27.2 , 32.64, 38.08, 43.52,\n",
    "       48.96, 54.4,  0.  ,  5.44, 10.88, 16.32, 21.76, 27.2 ,\n",
    "       32.64, 38.08, 43.52, 48.96, 54.4,  0.  ,  5.44, 10.88,\n",
    "       16.32, 21.76, 27.2 , 32.64, 38.08, 43.52, 48.96, 54.4])\n",
    "classes = [\"0-16.32\", \"16.32-43.52\", \"43.52+\"]"
   ]
  },
  {
   "cell_type": "code",
   "execution_count": 3,
   "id": "3b06bc49-7fb1-4c0e-8fad-e37880d13135",
   "metadata": {},
   "outputs": [],
   "source": [
    "def rolling_window(a, window):\n",
    "    pad = np.ones(len(a.shape), dtype=np.int32)\n",
    "    pad[-1] = window-1\n",
    "    pad = list(zip(pad, np.zeros(len(a.shape), dtype=np.int32)))\n",
    "    a = np.pad(a, pad,mode='reflect')\n",
    "    shape = a.shape[:-1] + (a.shape[-1] - window + 1, window)\n",
    "    strides = a.strides + (a.strides[-1],)\n",
    "    return np.lib.stride_tricks.as_strided(a, shape=shape, strides=strides)"
   ]
  },
  {
   "cell_type": "markdown",
   "id": "ab100cb2",
   "metadata": {},
   "source": [
    "Average observed period\n",
    "- Calc each period time\n",
    "- Loop through points, recording initial raise point, and fall point\n",
    "- Period will be one for top portion and one for bottom portion all merged into one list"
   ]
  },
  {
   "cell_type": "code",
   "execution_count": 4,
   "id": "08386dcd",
   "metadata": {},
   "outputs": [],
   "source": [
    "test = pd.read_csv(f\"/Users/trevorpeyton/Downloads/Channel1/LPM2_Trial11.csv\", usecols=[3, 4], names=[\"time\", \"v\"]).v.to_numpy()"
   ]
  },
  {
   "cell_type": "code",
   "execution_count": 5,
   "id": "12091293",
   "metadata": {},
   "outputs": [],
   "source": [
    "import itertools"
   ]
  },
  {
   "cell_type": "code",
   "execution_count": 6,
   "id": "62e86fec",
   "metadata": {},
   "outputs": [],
   "source": [
    "def calc_jitter(data, target):\n",
    "    delta = np.array([y-x for x, y in zip(data, data[1:])])\n",
    "    delta_global = delta - delta.mean()\n",
    "    delta_local = np.array([y-x for x, y in zip(delta, delta[1:])])\n",
    "    delta_global = np.array(list(itertools.chain(*(itertools.repeat(elem, n) for elem, n in zip(delta_global, delta)))))\n",
    "    delta_local = np.array(list(itertools.chain(*(itertools.repeat(elem, n) for elem, n in zip(delta_local, delta)))))\n",
    "    delta = np.array(list(itertools.chain(*(itertools.repeat(elem, n) for elem, n in zip(delta, delta)))))\n",
    "    #return delta, delta_global, delta_local\n",
    "    return (np.pad(delta, (target - len(delta), 0), 'constant'),\n",
    "         np.pad(delta_global, (target - len(delta_global), 0), 'constant'),\n",
    "         np.pad(delta_local, (target - len(delta_local), 0), 'constant'))\n",
    "\n",
    "\n",
    "#Testing jitter measurements\n",
    "\n",
    "# print(f\"trail, rising time steps, falling time steps, rising avg diff, falling avg diff, rising local diff, falling local diff\")\n",
    "# for x in [\"0\", \"2\", \"4-1\"]:\n",
    "#     for i in range(11):\n",
    "#         test = pd.read_csv(f\"/Users/trevorpeyton/Downloads/Channel1/LPM{x}_Trial{i}.csv\", usecols=[3, 4], names=[\"time\", \"v\"]).v.to_numpy()\n",
    "        \n",
    "#         rise_fall_times = []\n",
    "#         current, prev = test[0], test[0]\n",
    "#         first_rise = False #keep track of first rise so we don't mix up rising/falling data\n",
    "#         for n, val in enumerate(test):\n",
    "#             prev, current = current, val\n",
    "#             rising = prev > 1.5 and current < 1.5\n",
    "#             falling = prev < 1.5 and current > 1.5\n",
    "#             if rising or falling:\n",
    "#                 rise_fall_times.append(n)\n",
    "        \n",
    "#         cycles_first = rise_fall_times[::2] #first edge (rising/falling)\n",
    "#         cycles_second = rise_fall_times[1::2] #second edge (rising/falling)\n",
    "        \n",
    "#         rising_delta, rising_delta_global, rising_delta_local = calc_jitter(cycles_first, test.shape[0])\n",
    "#         falling_delta, falling_delta_global, falling_delta_local = calc_jitter(cycles_second, test.shape[0])\n",
    "        \n",
    "        #print(f\"LPM{x}_Trail{i} {rising_delta.mean()} {falling_delta.mean()} {rising_delta_global.mean()} {falling_delta_global.mean()} {rising_delta_local.mean()} {falling_delta_local.mean()}\")\n",
    "    #print()"
   ]
  },
  {
   "cell_type": "code",
   "execution_count": 11,
   "id": "cf6d5377-9236-4f7c-b8e3-2568ae94010d",
   "metadata": {},
   "outputs": [],
   "source": [
    "#load data\n",
    "trial_path = \"/Users/trevorpeyton/Downloads/\"\n",
    "trial_numbers = np.arange(11)\n",
    "channels = [\"Channel1\"]\n",
    "modes = [\"LPM0\", \"LPM2\", \"LPM4-1\"]\n",
    "trial_labels = [(f\"{channel}/{mode}_Trial{number}\", mode) for mode in modes for number in trial_numbers for channel in channels] #modified to pass along mode\n",
    "trials = [(pd.read_csv(trial_path + label + \".csv\", usecols=[3, 4], names=[\"time\", \"v\"]).v.to_numpy(), mode) for label, mode in trial_labels] #(data, mode)\n",
    "\n",
    "trial_slide_width = 2000\n",
    "test_percent = .3\n",
    "val_percent = .3 #percent of test set to be reserved for validation\n",
    "\n",
    "\n",
    "#temp_df = {\"raw\": [], \"rise_delta\": [], \"rise_global\": [], \"rise_local\": [], \"fall_delta\": [], \"fall_global\": [], \"fall_local\": [], \"class\": [], \"mode\": []}\n",
    "temp_df = {\"raw\": [], \"class\": [], \"mode\": []}\n",
    "\n",
    "for i, (trial, mode) in enumerate(trials):\n",
    "    #jitter measurements for data\n",
    "    # rise_fall_times = []\n",
    "    # current, prev = trial[0], trial[0]\n",
    "    # first_rise = False #keep track of first rise so we don't mix up rising/falling data\n",
    "    # for n, val in enumerate(trial):\n",
    "    #     prev, current = current, val\n",
    "    #     rising = prev > 1.5 and current < 1.5\n",
    "    #     falling = prev < 1.5 and current > 1.5\n",
    "    #     if rising or falling:\n",
    "    #         rise_fall_times.append(n)\n",
    "    \n",
    "    # cycles_first = rise_fall_times[::2] #first edge (rising/falling)\n",
    "    # cycles_second = rise_fall_times[1::2] #second edge (rising/falling)\n",
    "    \n",
    "    # first_delta, first_delta_global, first_delta_local = calc_jitter(cycles_first, trial.shape[0])\n",
    "    # second_delta, second_delta_global, second_delta_local = calc_jitter(cycles_second, trial.shape[0])\n",
    "    \n",
    "    #normalize all values using z-score\n",
    "    trial_copy = np.zeros(trial.shape)\n",
    "    trial_copy[trial > 2] = (trial[trial > 2] - trial[trial > 2].mean()) / trial[trial > 2].std()\n",
    "    trial_copy[trial < 2] = (trial[trial < 2] - trial[trial < 2].mean()) / trial[trial < 2].std()\n",
    "    \n",
    "    #if using jitter data\n",
    "    #trial_copy = np.stack((trial_copy, first_delta, first_delta_global, first_delta_local, second_delta, second_delta_global, second_delta_local))\n",
    "    #for win in np.lib.stride_tricks.sliding_window_view(trial_copy, (trial_copy.shape[0], trial_slide_width))[:, ::trial_slide_width].squeeze(0):\n",
    "    #if not using jitter data, pass tiral_copy directly\n",
    "    for win in np.lib.stride_tricks.sliding_window_view(trial_copy, trial_slide_width)[::trial_slide_width]:\n",
    "        temp_df[\"raw\"].append(win)\n",
    "        temp_df[\"mode\"].append(mode)\n",
    "        if doses[i] >= 43:\n",
    "            temp_df[\"class\"].append(classes[2])\n",
    "        elif doses[i] > 17:\n",
    "            temp_df[\"class\"].append(classes[1])\n",
    "        else:\n",
    "            temp_df[\"class\"].append(classes[0])\n",
    "\n",
    "df = pd.DataFrame(temp_df)\n",
    "df[\"merged_strat\"] = df[\"mode\"] + df[\"class\"]\n",
    "\n",
    "#split train/test/val\n",
    "temp_train, temp_test = train_test_split(df, test_size = test_percent, random_state=2, stratify=df[\"merged_strat\"])\n",
    "temp_test, temp_val = train_test_split(temp_test, test_size = val_percent, random_state=2, stratify=temp_test[\"merged_strat\"])\n",
    "\n",
    "train = np.array(list(zip(pd.get_dummies(temp_train[\"mode\"], columns=modes).values, temp_train[\"raw\"])), dtype=\"object\")\n",
    "train_y = pd.get_dummies(temp_train[\"class\"], columns=classes).values\n",
    "test = np.array(list(zip(pd.get_dummies(temp_test[\"mode\"], columns=modes).values, temp_test[\"raw\"])), dtype=\"object\")\n",
    "test_y = pd.get_dummies(temp_test[\"class\"], columns=classes).values\n",
    "val = np.array(list(zip(pd.get_dummies(temp_val[\"mode\"], columns=modes).values, temp_val[\"raw\"])), dtype=\"object\")\n",
    "val_y = pd.get_dummies(temp_val[\"class\"], columns=classes).values\n",
    "\n",
    "df = trials = temp_df = temp_train = temp_test = temp_val = None #clear up some memory"
   ]
  },
  {
   "cell_type": "code",
   "execution_count": 12,
   "id": "6793284c",
   "metadata": {},
   "outputs": [
    {
     "data": {
      "text/plain": [
       "(2000,)"
      ]
     },
     "execution_count": 12,
     "metadata": {},
     "output_type": "execute_result"
    }
   ],
   "source": [
    "train[0, 1].shape"
   ]
  },
  {
   "cell_type": "code",
   "execution_count": 13,
   "id": "06021e99-d90c-4f81-9ada-b5a7143350b6",
   "metadata": {},
   "outputs": [
    {
     "name": "stdout",
     "output_type": "stream",
     "text": [
      "Metal device set to: Apple M1\n",
      "\n",
      "systemMemory: 16.00 GB\n",
      "maxCacheSize: 5.33 GB\n",
      "\n"
     ]
    },
    {
     "name": "stderr",
     "output_type": "stream",
     "text": [
      "2022-03-31 15:00:53.447281: I tensorflow/core/common_runtime/pluggable_device/pluggable_device_factory.cc:305] Could not identify NUMA node of platform GPU ID 0, defaulting to 0. Your kernel may not have been built with NUMA support.\n",
      "2022-03-31 15:00:53.447394: I tensorflow/core/common_runtime/pluggable_device/pluggable_device_factory.cc:271] Created TensorFlow device (/job:localhost/replica:0/task:0/device:GPU:0 with 0 MB memory) -> physical PluggableDevice (device: 0, name: METAL, pci bus id: <undefined>)\n"
     ]
    }
   ],
   "source": [
    "mode_input = Input(shape=(len(modes), ))\n",
    "data_input = Input(shape=(train[0, 1].shape[0], 1))\n",
    "\n",
    "conv_1 = Conv1D(16, trial_slide_width, activation=\"relu\", padding=\"same\",\n",
    "                 kernel_regularizer=keras.regularizers.l2(0.1),\n",
    "                 bias_regularizer=keras.regularizers.l2(0.01)\n",
    "                )(data_input)\n",
    "max_1 = MaxPooling1D(6, padding=\"same\")(conv_1)\n",
    "\n",
    "conv_2 = Conv1D(6, trial_slide_width, activation=\"relu\", padding=\"same\",\n",
    "                 kernel_regularizer=keras.regularizers.l2(0.1),\n",
    "                 bias_regularizer=keras.regularizers.l2(0.01)\n",
    "                )(max_1)\n",
    "max_2 = MaxPooling1D(4, padding=\"same\")(conv_2)\n",
    "\n",
    "flatten = Flatten()(max_2)\n",
    "dropout = Dropout(0.5)(flatten)\n",
    "\n",
    "combined = keras.layers.Concatenate()([mode_input, dropout])\n",
    "final = Dense(3)(combined)\n",
    "\n",
    "model = Model(inputs=[mode_input, data_input], outputs=final)\n",
    "\n",
    "model.compile(\n",
    "    loss = tf.keras.losses.CategoricalCrossentropy(from_logits=True),\n",
    "    optimizer = tf.keras.optimizers.Adam(learning_rate=3e-4),\n",
    "    metrics = [\"accuracy\"]\n",
    "    )"
   ]
  },
  {
   "cell_type": "code",
   "execution_count": 17,
   "id": "a0f9ff8a",
   "metadata": {},
   "outputs": [
    {
     "data": {
      "text/plain": [
       "(577, 2000)"
      ]
     },
     "execution_count": 17,
     "metadata": {},
     "output_type": "execute_result"
    }
   ],
   "source": [
    "np.stack(train[:, 1]).shape"
   ]
  },
  {
   "cell_type": "code",
   "execution_count": 18,
   "id": "f76408bb",
   "metadata": {},
   "outputs": [
    {
     "name": "stdout",
     "output_type": "stream",
     "text": [
      "Epoch 1/50\n"
     ]
    },
    {
     "name": "stderr",
     "output_type": "stream",
     "text": [
      "2022-03-31 15:03:09.484513: W tensorflow/core/platform/profile_utils/cpu_utils.cc:128] Failed to get CPU frequency: 0 Hz\n",
      "2022-03-31 15:03:09.854778: I tensorflow/core/grappler/optimizers/custom_graph_optimizer_registry.cc:113] Plugin optimizer for device_type GPU is enabled.\n"
     ]
    },
    {
     "name": "stdout",
     "output_type": "stream",
     "text": [
      "19/19 - 7s - loss: 1.8443 - accuracy: 0.4038 - val_loss: 1.4586 - val_accuracy: 0.7200 - 7s/epoch - 343ms/step\n",
      "Epoch 2/50\n"
     ]
    },
    {
     "name": "stderr",
     "output_type": "stream",
     "text": [
      "2022-03-31 15:03:15.900738: I tensorflow/core/grappler/optimizers/custom_graph_optimizer_registry.cc:113] Plugin optimizer for device_type GPU is enabled.\n"
     ]
    },
    {
     "name": "stdout",
     "output_type": "stream",
     "text": [
      "19/19 - 2s - loss: 1.3623 - accuracy: 0.5130 - val_loss: 1.1276 - val_accuracy: 0.6133 - 2s/epoch - 89ms/step\n",
      "Epoch 3/50\n",
      "19/19 - 2s - loss: 1.0990 - accuracy: 0.6326 - val_loss: 0.9835 - val_accuracy: 0.6800 - 2s/epoch - 88ms/step\n",
      "Epoch 4/50\n",
      "19/19 - 2s - loss: 1.0756 - accuracy: 0.6378 - val_loss: 0.9127 - val_accuracy: 0.6667 - 2s/epoch - 88ms/step\n",
      "Epoch 5/50\n",
      "19/19 - 2s - loss: 1.0141 - accuracy: 0.6378 - val_loss: 0.9170 - val_accuracy: 0.7067 - 2s/epoch - 90ms/step\n",
      "Epoch 6/50\n",
      "19/19 - 2s - loss: 0.9059 - accuracy: 0.6863 - val_loss: 0.8530 - val_accuracy: 0.6267 - 2s/epoch - 88ms/step\n",
      "Epoch 7/50\n",
      "19/19 - 2s - loss: 0.8483 - accuracy: 0.6932 - val_loss: 0.7682 - val_accuracy: 0.7867 - 2s/epoch - 88ms/step\n",
      "Epoch 8/50\n",
      "19/19 - 2s - loss: 0.8178 - accuracy: 0.7470 - val_loss: 0.7117 - val_accuracy: 0.8267 - 2s/epoch - 91ms/step\n",
      "Epoch 9/50\n",
      "19/19 - 2s - loss: 0.7466 - accuracy: 0.7695 - val_loss: 0.6731 - val_accuracy: 0.8400 - 2s/epoch - 89ms/step\n",
      "Epoch 10/50\n"
     ]
    },
    {
     "ename": "KeyboardInterrupt",
     "evalue": "",
     "output_type": "error",
     "traceback": [
      "\u001b[0;31m---------------------------------------------------------------------------\u001b[0m",
      "\u001b[0;31mKeyboardInterrupt\u001b[0m                         Traceback (most recent call last)",
      "\u001b[1;32m/Users/trevorpeyton/Documents/github/RadiationML/RawDoseClassificationMerged.ipynb Cell 12'\u001b[0m in \u001b[0;36m<cell line: 2>\u001b[0;34m()\u001b[0m\n\u001b[1;32m      <a href='vscode-notebook-cell:/Users/trevorpeyton/Documents/github/RadiationML/RawDoseClassificationMerged.ipynb#ch0000010?line=0'>1</a>\u001b[0m \u001b[39m#plot_model(model, show_shapes=True, show_layer_names=True)\u001b[39;00m\n\u001b[0;32m----> <a href='vscode-notebook-cell:/Users/trevorpeyton/Documents/github/RadiationML/RawDoseClassificationMerged.ipynb#ch0000010?line=1'>2</a>\u001b[0m history \u001b[39m=\u001b[39m model\u001b[39m.\u001b[39;49mfit([np\u001b[39m.\u001b[39;49mstack(train[:, \u001b[39m0\u001b[39;49m]), np\u001b[39m.\u001b[39;49mstack(train[:, \u001b[39m1\u001b[39;49m])], train_y, batch_size\u001b[39m=\u001b[39;49m\u001b[39m32\u001b[39;49m, epochs\u001b[39m=\u001b[39;49m\u001b[39m50\u001b[39;49m, verbose\u001b[39m=\u001b[39;49m\u001b[39m2\u001b[39;49m, validation_data\u001b[39m=\u001b[39;49m([np\u001b[39m.\u001b[39;49mstack(val[:, \u001b[39m0\u001b[39;49m]), np\u001b[39m.\u001b[39;49mstack(val[:, \u001b[39m1\u001b[39;49m])], val_y))\n",
      "File \u001b[0;32m~/Documents/github/RadiationML/env/lib/python3.9/site-packages/keras/utils/traceback_utils.py:64\u001b[0m, in \u001b[0;36mfilter_traceback.<locals>.error_handler\u001b[0;34m(*args, **kwargs)\u001b[0m\n\u001b[1;32m     <a href='file:///Users/trevorpeyton/Documents/github/RadiationML/env/lib/python3.9/site-packages/keras/utils/traceback_utils.py?line=61'>62</a>\u001b[0m filtered_tb \u001b[39m=\u001b[39m \u001b[39mNone\u001b[39;00m\n\u001b[1;32m     <a href='file:///Users/trevorpeyton/Documents/github/RadiationML/env/lib/python3.9/site-packages/keras/utils/traceback_utils.py?line=62'>63</a>\u001b[0m \u001b[39mtry\u001b[39;00m:\n\u001b[0;32m---> <a href='file:///Users/trevorpeyton/Documents/github/RadiationML/env/lib/python3.9/site-packages/keras/utils/traceback_utils.py?line=63'>64</a>\u001b[0m   \u001b[39mreturn\u001b[39;00m fn(\u001b[39m*\u001b[39;49margs, \u001b[39m*\u001b[39;49m\u001b[39m*\u001b[39;49mkwargs)\n\u001b[1;32m     <a href='file:///Users/trevorpeyton/Documents/github/RadiationML/env/lib/python3.9/site-packages/keras/utils/traceback_utils.py?line=64'>65</a>\u001b[0m \u001b[39mexcept\u001b[39;00m \u001b[39mException\u001b[39;00m \u001b[39mas\u001b[39;00m e:  \u001b[39m# pylint: disable=broad-except\u001b[39;00m\n\u001b[1;32m     <a href='file:///Users/trevorpeyton/Documents/github/RadiationML/env/lib/python3.9/site-packages/keras/utils/traceback_utils.py?line=65'>66</a>\u001b[0m   filtered_tb \u001b[39m=\u001b[39m _process_traceback_frames(e\u001b[39m.\u001b[39m__traceback__)\n",
      "File \u001b[0;32m~/Documents/github/RadiationML/env/lib/python3.9/site-packages/keras/engine/training.py:1376\u001b[0m, in \u001b[0;36mModel.fit\u001b[0;34m(self, x, y, batch_size, epochs, verbose, callbacks, validation_split, validation_data, shuffle, class_weight, sample_weight, initial_epoch, steps_per_epoch, validation_steps, validation_batch_size, validation_freq, max_queue_size, workers, use_multiprocessing)\u001b[0m\n\u001b[1;32m   <a href='file:///Users/trevorpeyton/Documents/github/RadiationML/env/lib/python3.9/site-packages/keras/engine/training.py?line=1373'>1374</a>\u001b[0m callbacks\u001b[39m.\u001b[39mon_epoch_begin(epoch)\n\u001b[1;32m   <a href='file:///Users/trevorpeyton/Documents/github/RadiationML/env/lib/python3.9/site-packages/keras/engine/training.py?line=1374'>1375</a>\u001b[0m \u001b[39mwith\u001b[39;00m data_handler\u001b[39m.\u001b[39mcatch_stop_iteration():\n\u001b[0;32m-> <a href='file:///Users/trevorpeyton/Documents/github/RadiationML/env/lib/python3.9/site-packages/keras/engine/training.py?line=1375'>1376</a>\u001b[0m   \u001b[39mfor\u001b[39;00m step \u001b[39min\u001b[39;00m data_handler\u001b[39m.\u001b[39msteps():\n\u001b[1;32m   <a href='file:///Users/trevorpeyton/Documents/github/RadiationML/env/lib/python3.9/site-packages/keras/engine/training.py?line=1376'>1377</a>\u001b[0m     \u001b[39mwith\u001b[39;00m tf\u001b[39m.\u001b[39mprofiler\u001b[39m.\u001b[39mexperimental\u001b[39m.\u001b[39mTrace(\n\u001b[1;32m   <a href='file:///Users/trevorpeyton/Documents/github/RadiationML/env/lib/python3.9/site-packages/keras/engine/training.py?line=1377'>1378</a>\u001b[0m         \u001b[39m'\u001b[39m\u001b[39mtrain\u001b[39m\u001b[39m'\u001b[39m,\n\u001b[1;32m   <a href='file:///Users/trevorpeyton/Documents/github/RadiationML/env/lib/python3.9/site-packages/keras/engine/training.py?line=1378'>1379</a>\u001b[0m         epoch_num\u001b[39m=\u001b[39mepoch,\n\u001b[1;32m   <a href='file:///Users/trevorpeyton/Documents/github/RadiationML/env/lib/python3.9/site-packages/keras/engine/training.py?line=1379'>1380</a>\u001b[0m         step_num\u001b[39m=\u001b[39mstep,\n\u001b[1;32m   <a href='file:///Users/trevorpeyton/Documents/github/RadiationML/env/lib/python3.9/site-packages/keras/engine/training.py?line=1380'>1381</a>\u001b[0m         batch_size\u001b[39m=\u001b[39mbatch_size,\n\u001b[1;32m   <a href='file:///Users/trevorpeyton/Documents/github/RadiationML/env/lib/python3.9/site-packages/keras/engine/training.py?line=1381'>1382</a>\u001b[0m         _r\u001b[39m=\u001b[39m\u001b[39m1\u001b[39m):\n\u001b[1;32m   <a href='file:///Users/trevorpeyton/Documents/github/RadiationML/env/lib/python3.9/site-packages/keras/engine/training.py?line=1382'>1383</a>\u001b[0m       callbacks\u001b[39m.\u001b[39mon_train_batch_begin(step)\n",
      "File \u001b[0;32m~/Documents/github/RadiationML/env/lib/python3.9/site-packages/keras/engine/data_adapter.py:1246\u001b[0m, in \u001b[0;36mDataHandler.steps\u001b[0;34m(self)\u001b[0m\n\u001b[1;32m   <a href='file:///Users/trevorpeyton/Documents/github/RadiationML/env/lib/python3.9/site-packages/keras/engine/data_adapter.py?line=1243'>1244</a>\u001b[0m \u001b[39mif\u001b[39;00m \u001b[39mself\u001b[39m\u001b[39m.\u001b[39m_insufficient_data:  \u001b[39m# Set by `catch_stop_iteration`.\u001b[39;00m\n\u001b[1;32m   <a href='file:///Users/trevorpeyton/Documents/github/RadiationML/env/lib/python3.9/site-packages/keras/engine/data_adapter.py?line=1244'>1245</a>\u001b[0m   \u001b[39mbreak\u001b[39;00m\n\u001b[0;32m-> <a href='file:///Users/trevorpeyton/Documents/github/RadiationML/env/lib/python3.9/site-packages/keras/engine/data_adapter.py?line=1245'>1246</a>\u001b[0m original_spe \u001b[39m=\u001b[39m \u001b[39mself\u001b[39;49m\u001b[39m.\u001b[39;49m_steps_per_execution\u001b[39m.\u001b[39;49mnumpy()\u001b[39m.\u001b[39mitem()\n\u001b[1;32m   <a href='file:///Users/trevorpeyton/Documents/github/RadiationML/env/lib/python3.9/site-packages/keras/engine/data_adapter.py?line=1246'>1247</a>\u001b[0m can_run_full_execution \u001b[39m=\u001b[39m (\n\u001b[1;32m   <a href='file:///Users/trevorpeyton/Documents/github/RadiationML/env/lib/python3.9/site-packages/keras/engine/data_adapter.py?line=1247'>1248</a>\u001b[0m     original_spe \u001b[39m==\u001b[39m \u001b[39m1\u001b[39m \u001b[39mor\u001b[39;00m\n\u001b[1;32m   <a href='file:///Users/trevorpeyton/Documents/github/RadiationML/env/lib/python3.9/site-packages/keras/engine/data_adapter.py?line=1248'>1249</a>\u001b[0m     \u001b[39mself\u001b[39m\u001b[39m.\u001b[39m_inferred_steps \u001b[39mis\u001b[39;00m \u001b[39mNone\u001b[39;00m \u001b[39mor\u001b[39;00m\n\u001b[1;32m   <a href='file:///Users/trevorpeyton/Documents/github/RadiationML/env/lib/python3.9/site-packages/keras/engine/data_adapter.py?line=1249'>1250</a>\u001b[0m     \u001b[39mself\u001b[39m\u001b[39m.\u001b[39m_inferred_steps \u001b[39m-\u001b[39m \u001b[39mself\u001b[39m\u001b[39m.\u001b[39m_current_step \u001b[39m>\u001b[39m\u001b[39m=\u001b[39m\n\u001b[1;32m   <a href='file:///Users/trevorpeyton/Documents/github/RadiationML/env/lib/python3.9/site-packages/keras/engine/data_adapter.py?line=1250'>1251</a>\u001b[0m     original_spe)\n\u001b[1;32m   <a href='file:///Users/trevorpeyton/Documents/github/RadiationML/env/lib/python3.9/site-packages/keras/engine/data_adapter.py?line=1252'>1253</a>\u001b[0m \u001b[39mif\u001b[39;00m can_run_full_execution:\n",
      "File \u001b[0;32m~/Documents/github/RadiationML/env/lib/python3.9/site-packages/tensorflow/python/ops/resource_variable_ops.py:674\u001b[0m, in \u001b[0;36mBaseResourceVariable.numpy\u001b[0;34m(self)\u001b[0m\n\u001b[1;32m    <a href='file:///Users/trevorpeyton/Documents/github/RadiationML/env/lib/python3.9/site-packages/tensorflow/python/ops/resource_variable_ops.py?line=671'>672</a>\u001b[0m \u001b[39mdef\u001b[39;00m \u001b[39mnumpy\u001b[39m(\u001b[39mself\u001b[39m):\n\u001b[1;32m    <a href='file:///Users/trevorpeyton/Documents/github/RadiationML/env/lib/python3.9/site-packages/tensorflow/python/ops/resource_variable_ops.py?line=672'>673</a>\u001b[0m   \u001b[39mif\u001b[39;00m context\u001b[39m.\u001b[39mexecuting_eagerly():\n\u001b[0;32m--> <a href='file:///Users/trevorpeyton/Documents/github/RadiationML/env/lib/python3.9/site-packages/tensorflow/python/ops/resource_variable_ops.py?line=673'>674</a>\u001b[0m     \u001b[39mreturn\u001b[39;00m \u001b[39mself\u001b[39;49m\u001b[39m.\u001b[39;49mread_value()\u001b[39m.\u001b[39;49mnumpy()\n\u001b[1;32m    <a href='file:///Users/trevorpeyton/Documents/github/RadiationML/env/lib/python3.9/site-packages/tensorflow/python/ops/resource_variable_ops.py?line=674'>675</a>\u001b[0m   \u001b[39mraise\u001b[39;00m \u001b[39mNotImplementedError\u001b[39;00m(\n\u001b[1;32m    <a href='file:///Users/trevorpeyton/Documents/github/RadiationML/env/lib/python3.9/site-packages/tensorflow/python/ops/resource_variable_ops.py?line=675'>676</a>\u001b[0m       \u001b[39m\"\u001b[39m\u001b[39mnumpy() is only available when eager execution is enabled.\u001b[39m\u001b[39m\"\u001b[39m)\n",
      "File \u001b[0;32m~/Documents/github/RadiationML/env/lib/python3.9/site-packages/tensorflow/python/framework/ops.py:1223\u001b[0m, in \u001b[0;36m_EagerTensorBase.numpy\u001b[0;34m(self)\u001b[0m\n\u001b[1;32m   <a href='file:///Users/trevorpeyton/Documents/github/RadiationML/env/lib/python3.9/site-packages/tensorflow/python/framework/ops.py?line=1199'>1200</a>\u001b[0m \u001b[39m\"\"\"Copy of the contents of this Tensor into a NumPy array or scalar.\u001b[39;00m\n\u001b[1;32m   <a href='file:///Users/trevorpeyton/Documents/github/RadiationML/env/lib/python3.9/site-packages/tensorflow/python/framework/ops.py?line=1200'>1201</a>\u001b[0m \n\u001b[1;32m   <a href='file:///Users/trevorpeyton/Documents/github/RadiationML/env/lib/python3.9/site-packages/tensorflow/python/framework/ops.py?line=1201'>1202</a>\u001b[0m \u001b[39mUnlike NumPy arrays, Tensors are immutable, so this method has to copy\u001b[39;00m\n\u001b[0;32m   (...)\u001b[0m\n\u001b[1;32m   <a href='file:///Users/trevorpeyton/Documents/github/RadiationML/env/lib/python3.9/site-packages/tensorflow/python/framework/ops.py?line=1219'>1220</a>\u001b[0m \u001b[39m    NumPy dtype.\u001b[39;00m\n\u001b[1;32m   <a href='file:///Users/trevorpeyton/Documents/github/RadiationML/env/lib/python3.9/site-packages/tensorflow/python/framework/ops.py?line=1220'>1221</a>\u001b[0m \u001b[39m\"\"\"\u001b[39;00m\n\u001b[1;32m   <a href='file:///Users/trevorpeyton/Documents/github/RadiationML/env/lib/python3.9/site-packages/tensorflow/python/framework/ops.py?line=1221'>1222</a>\u001b[0m \u001b[39m# TODO(slebedev): Consider avoiding a copy for non-CPU or remote tensors.\u001b[39;00m\n\u001b[0;32m-> <a href='file:///Users/trevorpeyton/Documents/github/RadiationML/env/lib/python3.9/site-packages/tensorflow/python/framework/ops.py?line=1222'>1223</a>\u001b[0m maybe_arr \u001b[39m=\u001b[39m \u001b[39mself\u001b[39;49m\u001b[39m.\u001b[39;49m_numpy()  \u001b[39m# pylint: disable=protected-access\u001b[39;00m\n\u001b[1;32m   <a href='file:///Users/trevorpeyton/Documents/github/RadiationML/env/lib/python3.9/site-packages/tensorflow/python/framework/ops.py?line=1223'>1224</a>\u001b[0m \u001b[39mreturn\u001b[39;00m maybe_arr\u001b[39m.\u001b[39mcopy() \u001b[39mif\u001b[39;00m \u001b[39misinstance\u001b[39m(maybe_arr, np\u001b[39m.\u001b[39mndarray) \u001b[39melse\u001b[39;00m maybe_arr\n",
      "File \u001b[0;32m~/Documents/github/RadiationML/env/lib/python3.9/site-packages/tensorflow/python/framework/ops.py:1189\u001b[0m, in \u001b[0;36m_EagerTensorBase._numpy\u001b[0;34m(self)\u001b[0m\n\u001b[1;32m   <a href='file:///Users/trevorpeyton/Documents/github/RadiationML/env/lib/python3.9/site-packages/tensorflow/python/framework/ops.py?line=1186'>1187</a>\u001b[0m \u001b[39mdef\u001b[39;00m \u001b[39m_numpy\u001b[39m(\u001b[39mself\u001b[39m):\n\u001b[1;32m   <a href='file:///Users/trevorpeyton/Documents/github/RadiationML/env/lib/python3.9/site-packages/tensorflow/python/framework/ops.py?line=1187'>1188</a>\u001b[0m   \u001b[39mtry\u001b[39;00m:\n\u001b[0;32m-> <a href='file:///Users/trevorpeyton/Documents/github/RadiationML/env/lib/python3.9/site-packages/tensorflow/python/framework/ops.py?line=1188'>1189</a>\u001b[0m     \u001b[39mreturn\u001b[39;00m \u001b[39mself\u001b[39;49m\u001b[39m.\u001b[39;49m_numpy_internal()\n\u001b[1;32m   <a href='file:///Users/trevorpeyton/Documents/github/RadiationML/env/lib/python3.9/site-packages/tensorflow/python/framework/ops.py?line=1189'>1190</a>\u001b[0m   \u001b[39mexcept\u001b[39;00m core\u001b[39m.\u001b[39m_NotOkStatusException \u001b[39mas\u001b[39;00m e:  \u001b[39m# pylint: disable=protected-access\u001b[39;00m\n\u001b[1;32m   <a href='file:///Users/trevorpeyton/Documents/github/RadiationML/env/lib/python3.9/site-packages/tensorflow/python/framework/ops.py?line=1190'>1191</a>\u001b[0m     \u001b[39mraise\u001b[39;00m core\u001b[39m.\u001b[39m_status_to_exception(e) \u001b[39mfrom\u001b[39;00m \u001b[39mNone\u001b[39m\n",
      "\u001b[0;31mKeyboardInterrupt\u001b[0m: "
     ]
    }
   ],
   "source": [
    "\n",
    "#plot_model(model, show_shapes=True, show_layer_names=True)\n",
    "history = model.fit([np.stack(train[:, 0]), np.stack(train[:, 1])], train_y, batch_size=32, epochs=50, verbose=2, validation_data=([np.stack(val[:, 0]), np.stack(val[:, 1])], val_y))"
   ]
  },
  {
   "cell_type": "code",
   "execution_count": 110,
   "id": "17652ed7-26b1-410d-8ca7-c6391b5f5888",
   "metadata": {},
   "outputs": [
    {
     "data": {
      "image/png": "[encoded data removed]",
      "text/plain": [
       "<Figure size 432x288 with 1 Axes>"
      ]
     },
     "metadata": {},
     "output_type": "display_data"
    },
    {
     "data": {
      "image/png": "[encoded data removed]",
      "text/plain": [
       "<Figure size 432x288 with 1 Axes>"
      ]
     },
     "metadata": {},
     "output_type": "display_data"
    }
   ],
   "source": [
    "_=plt.figure(facecolor='white')\n",
    "plt.plot(history.history['accuracy'])\n",
    "plt.plot(history.history['val_accuracy'])\n",
    "\n",
    "plt.title('model accuracy')\n",
    "plt.ylabel('accuracy')\n",
    "plt.xlabel('epoch')\n",
    "plt.legend(['train', 'val'], loc='upper left')\n",
    "plt.show()\n",
    "\n",
    "_=plt.figure(facecolor='white')\n",
    "plt.plot(history.history['loss'])\n",
    "plt.plot(history.history['val_loss'])\n",
    "plt.title('model loss')\n",
    "plt.ylabel('loss')\n",
    "plt.xlabel('epoch')\n",
    "plt.legend(['train', 'val'], loc='upper left')\n",
    "plt.show()"
   ]
  },
  {
   "cell_type": "code",
   "execution_count": 9,
   "id": "8527f79d-423e-493d-b29b-5b13f14958fe",
   "metadata": {},
   "outputs": [
    {
     "name": "stdout",
     "output_type": "stream",
     "text": [
      "9/9 [==============================] - 0s 28ms/step - loss: 0.5483 - accuracy: 0.8546\n",
      "[0.5482701063156128, 0.8546099662780762]\n"
     ]
    }
   ],
   "source": [
    "print(f\"{model.evaluate([test[:, 0:3, None], test[:, 3:, None]], test_y)}\")"
   ]
  },
  {
   "cell_type": "code",
   "execution_count": 12,
   "id": "2816d9ac-b887-45af-81ae-babc69acc5ed",
   "metadata": {},
   "outputs": [
    {
     "name": "stdout",
     "output_type": "stream",
     "text": [
      "\tPredicted: [1], expected: 1\n",
      "\tPredicted: [0], expected: 1\n",
      "\tPredicted: [2], expected: 2\n",
      "\tPredicted: [1], expected: 1\n",
      "\tPredicted: [1], expected: 1\n",
      "\tPredicted: [0], expected: 0\n",
      "\tPredicted: [1], expected: 1\n",
      "\tPredicted: [2], expected: 2\n",
      "\tPredicted: [0], expected: 0\n",
      "\tPredicted: [2], expected: 2\n",
      "\tPredicted: [1], expected: 1\n",
      "\tPredicted: [1], expected: 1\n",
      "\tPredicted: [2], expected: 1\n",
      "\tPredicted: [0], expected: 0\n",
      "\tPredicted: [0], expected: 0\n",
      "\tPredicted: [0], expected: 0\n",
      "\tPredicted: [2], expected: 2\n",
      "\tPredicted: [1], expected: 1\n",
      "\tPredicted: [1], expected: 1\n",
      "\tPredicted: [0], expected: 0\n"
     ]
    }
   ],
   "source": [
    "#show some predictions from test dataset\n",
    "start = 40\n",
    "predictions = 20\n",
    "for n in range(start, start+predictions):\n",
    "    print(f\"\\tPredicted: {np.argmax(model([test[None, n, 0:3, None], test[None, n, 3:, None]]), axis=1)}, expected: {np.argmax(test_y[n])}\")"
   ]
  },
  {
   "cell_type": "code",
   "execution_count": null,
   "id": "f0da37c0-97f6-4f4f-9897-6bfccf139865",
   "metadata": {},
   "outputs": [],
   "source": [
    "for n, model in enumerate(models):\n",
    "    model.save(f\"models/classification_{modes[n]}.h5\")"
   ]
  },
  {
   "cell_type": "code",
   "execution_count": null,
   "id": "a1621e51-0b4c-427c-80fa-bcac81362836",
   "metadata": {},
   "outputs": [],
   "source": []
  }
 ],
 "metadata": {
  "interpreter": {
   "hash": "ed203ced7a6e988ced454190fdf4c68ec1868b9a7835f1f630a808216dec74b4"
  },
  "kernelspec": {
   "display_name": "ml",
   "language": "python",
   "name": "python3"
  },
  "language_info": {
   "codemirror_mode": {
    "name": "ipython",
    "version": 3
   },
   "file_extension": ".py",
   "mimetype": "text/x-python",
   "name": "python",
   "nbconvert_exporter": "python",
   "pygments_lexer": "ipython3",
   "version": "3.9.10"
  }
 },
 "nbformat": 4,
 "nbformat_minor": 5
}
